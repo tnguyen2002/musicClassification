{
 "cells": [
  {
   "cell_type": "code",
   "execution_count": 3,
   "metadata": {},
   "outputs": [],
   "source": [
    "import os\n",
    "import math\n",
    "import random\n",
    "import IPython.display as ipd\n",
    "import numpy as np\n",
    "import pandas as pd\n",
    "import keras\n",
    "import librosa\n",
    "from keras.models import Sequential\n",
    "from keras.layers import Activation, Dense, Conv1D, Conv2D, MaxPooling2D, Flatten, Reshape, Dropout\n",
    "from keras.utils import np_utils\n",
    "from keras.regularizers import l2\n",
    "import keras.utils\n",
    "import sklearn as skl\n",
    "import sklearn.utils, sklearn.preprocessing, sklearn.decomposition, sklearn.svm\n",
    "import tensorflow as tf\n",
    "import utils\n",
    "from keras.models import Sequential\n",
    "from keras.layers import (Input, Add, Dense, Activation, ZeroPadding2D, BatchNormalization, Flatten, \n",
    "                          Conv2D, AveragePooling2D, MaxPooling2D, GlobalMaxPooling2D)\n",
    "from keras import optimizers\n"
   ]
  },
  {
   "cell_type": "code",
   "execution_count": 4,
   "metadata": {},
   "outputs": [
    {
     "data": {
      "text/plain": [
       "((106574, 52), (106574, 518))"
      ]
     },
     "execution_count": 4,
     "metadata": {},
     "output_type": "execute_result"
    }
   ],
   "source": [
    "AUDIO_DIR = os.environ.get('AUDIO_DIR')\n",
    "\n",
    "tracks = utils.load('data/fma_metadata/tracks.csv')\n",
    "features = utils.load('data/fma_metadata/features.csv')\n",
    "# echonest = utils.load('data/fma_metadata/echonest.csv')\n",
    "\n",
    "np.testing.assert_array_equal(features.index, tracks.index)\n",
    "# assert echonest.index.isin(tracks.index).all()\n",
    "\n",
    "tracks.shape, features.shape\n",
    "#106574 trackss"
   ]
  },
  {
   "cell_type": "code",
   "execution_count": 7,
   "metadata": {
    "scrolled": true
   },
   "outputs": [
    {
     "name": "stdout",
     "output_type": "stream",
     "text": [
      "[[0. 0. 0. ... 0. 0. 0.]\n",
      " [0. 0. 0. ... 0. 0. 0.]\n",
      " [0. 0. 0. ... 0. 0. 0.]\n",
      " ...\n",
      " [0. 0. 0. ... 0. 0. 0.]\n",
      " [0. 0. 0. ... 0. 0. 0.]\n",
      " [0. 0. 0. ... 1. 0. 0.]]\n",
      "[[0. 0. 0. ... 1. 0. 0.]\n",
      " [0. 0. 0. ... 1. 0. 0.]\n",
      " [0. 0. 0. ... 1. 0. 0.]\n",
      " ...\n",
      " [0. 0. 0. ... 0. 0. 0.]\n",
      " [0. 0. 0. ... 0. 0. 0.]\n",
      " [0. 0. 0. ... 0. 0. 0.]]\n",
      "140\n"
     ]
    }
   ],
   "source": [
    "medium = tracks['set', 'subset'] <= 'medium'\n",
    "\n",
    "train = tracks['set', 'split'] == 'training'\n",
    "val = tracks['set', 'split'] == 'validation'\n",
    "test = tracks['set', 'split'] == 'test'\n",
    "\n",
    "y_train = tracks.loc[medium & train, ('track', 'genre_top')].to_frame().to_numpy()\n",
    "y_test = tracks.loc[medium & test, ('track', 'genre_top')].to_frame().to_numpy()\n",
    "X_train = features.loc[medium & train, 'mfcc'].to_numpy()\n",
    "X_test = features.loc[medium & test, 'mfcc'].to_numpy()\n",
    "\n",
    "numFeatures = X_train.shape[1]\n",
    "Labels = np.unique(y_train)\n",
    "\n",
    "label_encoder = sklearn.preprocessing.LabelEncoder()\n",
    "onehot_encoder = sklearn.preprocessing.OneHotEncoder(sparse = False)\n",
    "\n",
    "integer_encoded_y_train = label_encoder.fit_transform(y_train.reshape(1, y_train.shape[0])[0])\n",
    "integer_encoded_y_train = integer_encoded_y_train.reshape(len(integer_encoded_y_train), 1)\n",
    "onehot_encoded_y_train = onehot_encoder.fit_transform(integer_encoded_y_train)\n",
    "\n",
    "integer_encoded_y_test = label_encoder.fit_transform(y_test.reshape(1, y_test.shape[0])[0])\n",
    "integer_encoded_y_test = integer_encoded_y_test.reshape(len(integer_encoded_y_test), 1)\n",
    "onehot_encoded_y_test = onehot_encoder.fit_transform(integer_encoded_y_test)\n",
    "\n",
    "y_train = onehot_encoded_y_train\n",
    "y_test = onehot_encoded_y_test\n",
    "\n",
    "\n",
    "# print(y_train)\n",
    "# print(y_test)\n",
    "# print(numFeatures)"
   ]
  },
  {
   "cell_type": "code",
   "execution_count": 9,
   "metadata": {},
   "outputs": [],
   "source": [
    "def get_model_CNN():\n",
    "    model = tf.keras.Sequential()\n",
    "    model.add(Conv2D(2, 2, input_shape = X_train.shape[1:]))\n",
    "    model.add(Conv2D(1,1, input_shape = (X_train.shape[1], X_train.shape[2])))\n",
    "    model.add(Conv2D(48, kernel_size=(2, 2), kernel_regularizer=l2(0.01), bias_regularizer=l2(0.01), activation='relu'))\n",
    "    \n",
    "    model.add(MaxPooling2D(pool_size=(2, 2)))\n",
    "\n",
    "    \n",
    "    model.add(Flatten())\n",
    "    model.add(tf.keras.layers.Dense(y_train.shape[1], activation = 'softmax'))\n",
    "    \n",
    "    return model"
   ]
  },
  {
   "cell_type": "code",
   "execution_count": null,
   "metadata": {
    "scrolled": true
   },
   "outputs": [
    {
     "name": "stdout",
     "output_type": "stream",
     "text": [
      "[[[-5.21129211e+02]\n",
      "  [-2.47567795e+02]\n",
      "  [-1.08022316e+02]\n",
      "  ...\n",
      "  [-7.11279297e+01]\n",
      "  [-7.75416031e+01]\n",
      "  [-9.73930130e+01]]\n",
      "\n",
      " [[ 1.55325842e+00]\n",
      "  [ 8.51672058e+01]\n",
      "  [ 1.07385818e+02]\n",
      "  ...\n",
      "  [ 1.32055450e+02]\n",
      "  [ 1.35444305e+02]\n",
      "  [ 1.26504570e+02]]\n",
      "\n",
      " [[-8.50553870e-01]\n",
      "  [-4.24489403e+01]\n",
      "  [-5.64110718e+01]\n",
      "  ...\n",
      "  [-6.07286072e+01]\n",
      "  [-4.87116470e+01]\n",
      "  [-3.68379822e+01]]\n",
      "\n",
      " ...\n",
      "\n",
      " [[ 1.12130344e-02]\n",
      "  [ 7.66306114e+00]\n",
      "  [ 2.67736793e-01]\n",
      "  ...\n",
      "  [ 3.66442204e+00]\n",
      "  [ 6.18414736e+00]\n",
      "  [ 9.55699921e+00]]\n",
      "\n",
      " [[ 2.06057692e+00]\n",
      "  [ 2.22052727e+01]\n",
      "  [ 2.16350021e+01]\n",
      "  ...\n",
      "  [ 1.92207205e+00]\n",
      "  [ 4.77948475e+00]\n",
      "  [ 5.36637592e+00]]\n",
      "\n",
      " [[ 1.23948824e+00]\n",
      "  [ 1.19747221e-01]\n",
      "  [-7.38131225e-01]\n",
      "  ...\n",
      "  [-1.29854889e+01]\n",
      "  [-1.72685471e+01]\n",
      "  [-1.83781319e+01]]]\n",
      "(19978, 20, 385, 1)\n",
      "Epoch 1/20\n",
      "324/499 [==================>...........] - ETA: 20s - loss: 91.5957 - accuracy: 0.1800"
     ]
    }
   ],
   "source": [
    "X_train = np.load(\"/Users/josephzhang/Developer/fma/npy_train.npy\") # change directory\n",
    "X_train = X_train.reshape(X_train.shape[0], X_train.shape[1], X_train.shape[2], 1)\n",
    "# print(X_train[1])\n",
    "# print(X_train.shape)\n",
    "\n",
    "X_test = np.load(\"/Users/josephzhang/Developer/fma/npy_test.npy\") #change directory\n",
    "X_test = X_test.reshape(X_test.shape[0], X_test.shape[1], X_test.shape[2], 1)\n",
    "model = get_model_CNN()\n",
    "\n",
    "\n",
    "splitValue = math.ceil(19922 * 0.8)\n",
    "X_trainFormatted = X_train[:19922]\n",
    "y_trainFormatted = y_train[:19922]\n",
    "X_trainFormatted, y_trainFormatted = sklearn.utils.shuffle(X_trainFormatted, y_trainFormatted)\n",
    "\n",
    "model.compile(loss = \"categorical_crossentropy\", optimizer = \"adam\", metrics = [\"accuracy\"])\n",
    "model.fit(X_trainFormatted[:splitValue],y_trainFormatted[:splitValue], epochs = 20, validation_data = (X_train[splitValue: splitValue + 3000],y_train[splitValue: splitValue + 3000]))"
   ]
  }
 ],
 "metadata": {
  "kernelspec": {
   "display_name": "Python 3.10.5 64-bit",
   "language": "python",
   "name": "python3"
  },
  "language_info": {
   "codemirror_mode": {
    "name": "ipython",
    "version": 3
   },
   "file_extension": ".py",
   "mimetype": "text/x-python",
   "name": "python",
   "nbconvert_exporter": "python",
   "pygments_lexer": "ipython3",
   "version": "3.10.5"
  },
  "vscode": {
   "interpreter": {
    "hash": "722b6f501d3291d098eeb116c55030d7476387c4156a20534e17b28f07582bab"
   }
  }
 },
 "nbformat": 4,
 "nbformat_minor": 2
}
