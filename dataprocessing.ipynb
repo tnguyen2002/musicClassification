{
 "cells": [
  {
   "cell_type": "code",
   "execution_count": 1,
   "metadata": {
    "collapsed": true
   },
   "outputs": [],
   "source": [
    "import os\n",
    "import IPython.display as ipd\n",
    "import numpy as np\n",
    "import pandas as pd\n",
    "import warnings\n",
    "import PIL\n",
    "from glob import glob\n",
    "import sklearn as skl\n",
    "from sklearn.model_selection import train_test_split\n",
    "import sklearn.utils, sklearn.preprocessing, sklearn.decomposition, sklearn.svm\n",
    "from sklearn.preprocessing import MultiLabelBinarizer, LabelEncoder, LabelBinarizer, StandardScaler\n",
    "import shutil"
   ]
  },
  {
   "cell_type": "code",
   "execution_count": 2,
   "metadata": {
    "collapsed": true
   },
   "outputs": [],
   "source": [
    "tracks = utils.load('data/fma_metadata/tracks.csv')\n",
    "medium = tracks['set', 'subset'] <= 'medium'\n",
    "y = tracks.loc[medium , ('track', 'genre_top')].to_frame().to_numpy()"
   ]
  },
  {
   "cell_type": "code",
   "execution_count": 3,
   "metadata": {},
   "outputs": [
    {
     "data": {
      "text/plain": [
       "array([['Hip-Hop'],\n",
       "       ['Hip-Hop'],\n",
       "       ['Hip-Hop'],\n",
       "       ...,\n",
       "       ['Folk'],\n",
       "       ['Experimental'],\n",
       "       ['Rock']], dtype=object)"
      ]
     },
     "execution_count": 3,
     "metadata": {},
     "output_type": "execute_result"
    }
   ],
   "source": [
    "y"
   ]
  },
  {
   "cell_type": "code",
   "execution_count": 24,
   "metadata": {},
   "outputs": [
    {
     "name": "stdout",
     "output_type": "stream",
     "text": [
      "25000\n",
      "316\n",
      "grayImages2/001486.png\n",
      "977\n",
      "grayImages2/005574.png\n",
      "10675\n",
      "grayImages2/065753.png\n",
      "13146\n",
      "grayImages2/080391.png\n",
      "15626\n",
      "grayImages2/098558.png\n",
      "15627\n",
      "grayImages2/098559.png\n",
      "15628\n",
      "grayImages2/098560.png\n",
      "15634\n",
      "grayImages2/098571.png\n",
      "15836\n",
      "grayImages2/099134.png\n",
      "16305\n",
      "grayImages2/105247.png\n",
      "16959\n",
      "grayImages2/108925.png\n",
      "20621\n",
      "grayImages2/126981.png\n",
      "20780\n",
      "grayImages2/127336.png\n",
      "21988\n",
      "grayImages2/133297.png\n",
      "23620\n",
      "grayImages2/143992.png\n"
     ]
    },
    {
     "data": {
      "text/plain": [
       "[316,\n",
       " 977,\n",
       " 10675,\n",
       " 13146,\n",
       " 15626,\n",
       " 15627,\n",
       " 15628,\n",
       " 15634,\n",
       " 15836,\n",
       " 16305,\n",
       " 16959,\n",
       " 20621,\n",
       " 20780,\n",
       " 21988,\n",
       " 23620]"
      ]
     },
     "execution_count": 24,
     "metadata": {},
     "output_type": "execute_result"
    }
   ],
   "source": [
    "# getting corrupted files index\n",
    "warnings.filterwarnings(\"ignore\")\n",
    "base_path = \"data/fma_medium/\"\n",
    "files = sorted(list(glob(base_path + \"/*/*.mp3\")))\n",
    "base_out = \"grayImages2/\"\n",
    "corruptedRows = []\n",
    "print(len(files))\n",
    "for i in range(len(files)):\n",
    "    file = files[i]\n",
    "    filename = os.path.basename(file)[:-4]\n",
    "    path = base_out + filename + \".png\"\n",
    "    if(not os.path.isfile(path)):\n",
    "        print(i)\n",
    "        print(path)\n",
    "        corruptedRows.append(i)\n",
    "\n",
    "corruptedRows"
   ]
  },
  {
   "cell_type": "code",
   "execution_count": 20,
   "metadata": {},
   "outputs": [
    {
     "name": "stdout",
     "output_type": "stream",
     "text": [
      "['Blues' 'Classical' 'Country' 'Easy Listening' 'Electronic'\n",
      " 'Experimental' 'Folk' 'Hip-Hop' 'Instrumental' 'International' 'Jazz'\n",
      " 'Old-Time' 'Pop' 'Rock' 'Soul-RnB' 'Spoken']\n",
      "(24985, 1)\n",
      "(24985, 16)\n",
      "[0. 0. 0. 0. 0. 0. 0. 1. 0. 0. 0. 0. 0. 0. 0. 0.]\n"
     ]
    }
   ],
   "source": [
    "Labels = np.unique(y)\n",
    "Labels[11] = \"Old-Time\" # renaming\n",
    "print(Labels)\n",
    "\n",
    "label_encoder = sklearn.preprocessing.LabelEncoder()\n",
    "onehot_encoder = sklearn.preprocessing.OneHotEncoder(sparse = False)\n",
    "\n",
    "integer_encoded_y = label_encoder.fit_transform(y.reshape(1, y.shape[0])[0])\n",
    "integer_encoded_y = integer_encoded_y.reshape(len(integer_encoded_y), 1)\n",
    "integer_encoded_y = np.delete(integer_encoded_y, corruptedRows,axis = 0)\n",
    "\n",
    "#removing Corrupted Labels\n",
    "print(integer_encoded_y.shape)\n",
    "onehot_encoded_y = onehot_encoder.fit_transform(integer_encoded_y)\n",
    "\n",
    "print(onehot_encoded_y.shape)\n",
    "print(onehot_encoded_y[0])"
   ]
  },
  {
   "cell_type": "code",
   "execution_count": 33,
   "metadata": {
    "collapsed": true
   },
   "outputs": [],
   "source": [
    "#Moving images to proper Directory\n",
    "baseImagePath = 'grayImages2'\n",
    "imagesPaths= sorted(list(glob(baseImagePath + \"/*.png\")))\n",
    "imageCount = len(imagesPaths)\n",
    "for i in range(imageCount):\n",
    "    label = Labels[integer_encoded_y[i]]\n",
    "    folder = str(label[0])\n",
    "    dst = \"spectrogramDirectory/\" + folder\n",
    "#     print(dst)\n",
    "    shutil.move(imagesPaths[i],dst)"
   ]
  },
  {
   "cell_type": "code",
   "execution_count": null,
   "metadata": {
    "collapsed": true
   },
   "outputs": [],
   "source": []
  }
 ],
 "metadata": {
  "kernelspec": {
   "display_name": "Python 3",
   "language": "python",
   "name": "python3"
  },
  "language_info": {
   "codemirror_mode": {
    "name": "ipython",
    "version": 3
   },
   "file_extension": ".py",
   "mimetype": "text/x-python",
   "name": "python",
   "nbconvert_exporter": "python",
   "pygments_lexer": "ipython3",
   "version": "3.10.5"
  },
  "vscode": {
   "interpreter": {
    "hash": "722b6f501d3291d098eeb116c55030d7476387c4156a20534e17b28f07582bab"
   }
  }
 },
 "nbformat": 4,
 "nbformat_minor": 2
}
